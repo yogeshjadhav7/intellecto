{
 "cells": [
  {
   "cell_type": "code",
   "execution_count": 1,
   "metadata": {},
   "outputs": [],
   "source": [
    "import numpy as np\n",
    "import random as rand\n",
    "import warnings\n",
    "warnings.filterwarnings(\"ignore\")\n",
    "\n",
    "NONE_MOVE_SCORE = -100000 * (9**3) \n",
    "DEPTH = 1"
   ]
  },
  {
   "cell_type": "code",
   "execution_count": 2,
   "metadata": {},
   "outputs": [],
   "source": [
    "def softmax(x):\n",
    "    e_x = np.exp(x - np.max(x))\n",
    "    return e_x / e_x.sum(axis=0)"
   ]
  },
  {
   "cell_type": "code",
   "execution_count": 3,
   "metadata": {},
   "outputs": [],
   "source": [
    "def reset_game():\n",
    "    initial_board = np.random.random_integers(low=-9, high=9, size=5).tolist()\n",
    "    next_queue = np.random.random_integers(low=-9, high=9, size=3).tolist()\n",
    "    return initial_board, next_queue"
   ]
  },
  {
   "cell_type": "code",
   "execution_count": 4,
   "metadata": {},
   "outputs": [],
   "source": [
    "def get_left_val(i, board):\n",
    "    if i == 0: return 1\n",
    "    left_i = i - 1;\n",
    "    while left_i >= 0:\n",
    "        if board[left_i] is None:\n",
    "            left_i -= 1\n",
    "            continue\n",
    "        else: break\n",
    "            \n",
    "    if left_i >= 0: return board[left_i]\n",
    "    else: return 1"
   ]
  },
  {
   "cell_type": "code",
   "execution_count": 5,
   "metadata": {},
   "outputs": [],
   "source": [
    "def get_right_val(i, board):\n",
    "    if i == (len(board) - 1): return 1\n",
    "    right_i = i + 1;\n",
    "    while right_i < len(board):\n",
    "        if board[right_i] is None:\n",
    "            right_i += 1\n",
    "            continue\n",
    "        else: break\n",
    "            \n",
    "    if right_i < len(board): return board[right_i]\n",
    "    else: return 1"
   ]
  },
  {
   "cell_type": "code",
   "execution_count": 6,
   "metadata": {},
   "outputs": [],
   "source": [
    "def get_next_board_state(i, board, queue):\n",
    "    board_copy = board.copy()\n",
    "    queue_copy = queue.copy()\n",
    "    replacement_val = None\n",
    "    if len(queue_copy) > 0:\n",
    "        replacement_val = queue_copy.pop(0)\n",
    "    \n",
    "    board_copy[i] = replacement_val\n",
    "    return board_copy, queue_copy"
   ]
  },
  {
   "cell_type": "code",
   "execution_count": 7,
   "metadata": {},
   "outputs": [],
   "source": [
    "def get_deep_move_score(board, queue, depth):\n",
    "    if depth > DEPTH: return 0\n",
    "\n",
    "    val_scores = []\n",
    "    deep_val_scores = []\n",
    "    \n",
    "    for i in range(len(board)):\n",
    "        if board[i] is None: continue\n",
    "        \n",
    "        left_val = get_left_val(i, board)\n",
    "        right_val = get_right_val(i, board)\n",
    "        val = left_val * board[i] * right_val\n",
    "        val_scores.append(val)\n",
    "        \n",
    "        next_board, next_queue = get_next_board_state(i, board, queue)\n",
    "        deep_val = get_deep_move_score(next_board, next_queue, depth + 1)\n",
    "        deep_val_scores.append(deep_val)\n",
    "    \n",
    "    deep_score = NONE_MOVE_SCORE\n",
    "    for i in range(len(val_scores)):\n",
    "        if (val_scores[i] - deep_val_scores[i]) > deep_score:\n",
    "            deep_score = val_scores[i] - deep_val_scores[i]\n",
    "    \n",
    "    return deep_score\n",
    "    "
   ]
  },
  {
   "cell_type": "code",
   "execution_count": 8,
   "metadata": {},
   "outputs": [],
   "source": [
    "def get_move_score(i, board, queue):\n",
    "    if board[i] is None: NONE_MOVE_SCORE\n",
    "        \n",
    "    left_val = get_left_val(i, board)\n",
    "    right_val = get_right_val(i, board)\n",
    "    val = left_val * board[i] * right_val\n",
    "    deep_val = 0\n",
    "    \n",
    "    if DEPTH > 0:\n",
    "        next_board, next_queue = get_next_board_state(i, board, queue)\n",
    "        if not is_game_over(next_board):\n",
    "            deep_val = get_deep_move_score(next_board, next_queue, 1)\n",
    "        \n",
    "    return val - deep_val\n",
    "    "
   ]
  },
  {
   "cell_type": "code",
   "execution_count": 9,
   "metadata": {},
   "outputs": [],
   "source": [
    "def is_game_over(board):\n",
    "    return sum(np.array(board) != None) == 0"
   ]
  },
  {
   "cell_type": "code",
   "execution_count": 10,
   "metadata": {},
   "outputs": [],
   "source": [
    "def play_move(i, board, queue):\n",
    "    valid_move = True\n",
    "    if is_game_over(board) or i < 0 or i >= len(board) or board[i] is None:\n",
    "        valid_move = False\n",
    "        return valid_move, board, queue, None\n",
    "\n",
    "    move_score = get_move_score(i, board, queue)\n",
    "    next_board, next_queue = get_next_board_state(i, board, queue)\n",
    "    return valid_move, next_board, next_queue, move_score\n",
    "    "
   ]
  },
  {
   "cell_type": "code",
   "execution_count": 11,
   "metadata": {},
   "outputs": [],
   "source": [
    "def play_game(board, queue):\n",
    "    board_queue_moves_score_map = []\n",
    "    game_over = False\n",
    "    game_score = 0\n",
    "    while not game_over:\n",
    "        raw_moves_scores = []\n",
    "        for i in range(len(board)):\n",
    "            valid_move, _, _, move_score = play_move(i, board, queue)\n",
    "            if not valid_move:\n",
    "                raw_moves_scores.append(NONE_MOVE_SCORE)\n",
    "            else:\n",
    "                raw_moves_scores.append(move_score)\n",
    "            \n",
    "        moves_score = softmax(raw_moves_scores)\n",
    "        board_queue_moves_score_map.append((board, moves_score))\n",
    "        valid_move = False\n",
    "        while not valid_move:\n",
    "            i = np.random.choice(len(moves_score), p=moves_score)\n",
    "            valid_move, board, queue, raw_move_score = play_move(i, board, queue)\n",
    "            \n",
    "        game_score += raw_move_score\n",
    "        game_over = is_game_over(board)\n",
    "        \n",
    "    return board_queue_moves_score_map, game_score"
   ]
  },
  {
   "cell_type": "code",
   "execution_count": 12,
   "metadata": {},
   "outputs": [],
   "source": [
    "board, queue = reset_game()"
   ]
  },
  {
   "cell_type": "code",
   "execution_count": 13,
   "metadata": {},
   "outputs": [
    {
     "data": {
      "text/plain": [
       "[8, -3, -6, -9, 9]"
      ]
     },
     "execution_count": 13,
     "metadata": {},
     "output_type": "execute_result"
    }
   ],
   "source": [
    "board"
   ]
  },
  {
   "cell_type": "code",
   "execution_count": 14,
   "metadata": {},
   "outputs": [
    {
     "data": {
      "text/plain": [
       "[1, 2, -9]"
      ]
     },
     "execution_count": 14,
     "metadata": {},
     "output_type": "execute_result"
    }
   ],
   "source": [
    "queue"
   ]
  },
  {
   "cell_type": "code",
   "execution_count": 15,
   "metadata": {},
   "outputs": [],
   "source": [
    "board_moves_scores_map, game_score = play_game(board, queue)"
   ]
  },
  {
   "cell_type": "code",
   "execution_count": 16,
   "metadata": {},
   "outputs": [
    {
     "data": {
      "text/plain": [
       "[([8, -3, -6, -9, 9],\n",
       "  array([0.00000000e+000, 8.76141755e-298, 2.45261912e-231, 1.00000000e+000,\n",
       "         5.68890604e-247])),\n",
       " ([8, -3, -6, 1, 9],\n",
       "  array([2.25235791e-082, 1.00000000e+000, 2.57220937e-056, 2.63026133e-142,\n",
       "         6.03324914e-115])),\n",
       " ([8, 2, -6, 1, 9],\n",
       "  array([1.60381082e-028, 7.12457611e-218, 9.99999959e-001, 4.37749086e-223,\n",
       "         4.13993755e-008])),\n",
       " ([8, 2, -9, 1, 9],\n",
       "  array([9.99999168e-01, 3.25748582e-70, 2.11512928e-19, 6.81355116e-46,\n",
       "         8.31528028e-07])),\n",
       " ([None, 2, -9, 1, 9],\n",
       "  array([0.00000000e+00, 2.86251858e-20, 3.53262857e-24, 6.63967720e-36,\n",
       "         1.00000000e+00])),\n",
       " ([None, 2, -9, 1, None],\n",
       "  array([0.00000000e+00, 1.52299795e-08, 2.54366561e-13, 9.99999985e-01,\n",
       "         0.00000000e+00])),\n",
       " ([None, 2, -9, None, None],\n",
       "  array([0.00000000e+00, 9.99983299e-01, 1.67014218e-05, 0.00000000e+00,\n",
       "         0.00000000e+00])),\n",
       " ([None, None, -9, None, None], array([0., 0., 1., 0., 0.]))]"
      ]
     },
     "execution_count": 16,
     "metadata": {},
     "output_type": "execute_result"
    }
   ],
   "source": [
    "board_moves_scores_map"
   ]
  },
  {
   "cell_type": "code",
   "execution_count": 17,
   "metadata": {},
   "outputs": [
    {
     "data": {
      "text/plain": [
       "458"
      ]
     },
     "execution_count": 17,
     "metadata": {},
     "output_type": "execute_result"
    }
   ],
   "source": [
    "game_score"
   ]
  }
 ],
 "metadata": {
  "kernelspec": {
   "display_name": "Python 3",
   "language": "python",
   "name": "python3"
  },
  "language_info": {
   "codemirror_mode": {
    "name": "ipython",
    "version": 3
   },
   "file_extension": ".py",
   "mimetype": "text/x-python",
   "name": "python",
   "nbconvert_exporter": "python",
   "pygments_lexer": "ipython3",
   "version": "3.6.4"
  }
 },
 "nbformat": 4,
 "nbformat_minor": 2
}
